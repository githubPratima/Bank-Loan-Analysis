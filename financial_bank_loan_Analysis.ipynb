{
 "cells": [
  {
   "cell_type": "code",
   "execution_count": 1,
   "id": "9e48f34b-152f-4142-bf5b-6b5a5bd1816f",
   "metadata": {},
   "outputs": [],
   "source": [
    "import pandas as pd\n",
    "import numpy as np\n",
    "import seaborn as sns\n",
    "import matplotlib.pyplot as plt"
   ]
  },
  {
   "cell_type": "code",
   "execution_count": 4,
   "id": "375b5b40-3652-416d-8aff-9724a938098d",
   "metadata": {},
   "outputs": [],
   "source": [
    "financial_loan = pd.read_csv('financial_loan.csv')\n"
   ]
  },
  {
   "cell_type": "code",
   "execution_count": 7,
   "id": "e02a11b0-912d-4a19-9699-10d65c9440d1",
   "metadata": {},
   "outputs": [
    {
     "data": {
      "text/html": [
       "<div>\n",
       "<style scoped>\n",
       "    .dataframe tbody tr th:only-of-type {\n",
       "        vertical-align: middle;\n",
       "    }\n",
       "\n",
       "    .dataframe tbody tr th {\n",
       "        vertical-align: top;\n",
       "    }\n",
       "\n",
       "    .dataframe thead th {\n",
       "        text-align: right;\n",
       "    }\n",
       "</style>\n",
       "<table border=\"1\" class=\"dataframe\">\n",
       "  <thead>\n",
       "    <tr style=\"text-align: right;\">\n",
       "      <th></th>\n",
       "      <th>id</th>\n",
       "      <th>address_state</th>\n",
       "      <th>application_type</th>\n",
       "      <th>emp_length</th>\n",
       "      <th>emp_title</th>\n",
       "      <th>grade</th>\n",
       "      <th>home_ownership</th>\n",
       "      <th>issue_date</th>\n",
       "      <th>last_credit_pull_date</th>\n",
       "      <th>last_payment_date</th>\n",
       "      <th>...</th>\n",
       "      <th>sub_grade</th>\n",
       "      <th>term</th>\n",
       "      <th>verification_status</th>\n",
       "      <th>annual_income</th>\n",
       "      <th>dti</th>\n",
       "      <th>installment</th>\n",
       "      <th>int_rate</th>\n",
       "      <th>loan_amount</th>\n",
       "      <th>total_acc</th>\n",
       "      <th>total_payment</th>\n",
       "    </tr>\n",
       "  </thead>\n",
       "  <tbody>\n",
       "    <tr>\n",
       "      <th>0</th>\n",
       "      <td>1077430</td>\n",
       "      <td>GA</td>\n",
       "      <td>INDIVIDUAL</td>\n",
       "      <td>&lt; 1 year</td>\n",
       "      <td>Ryder</td>\n",
       "      <td>C</td>\n",
       "      <td>RENT</td>\n",
       "      <td>11-02-2021</td>\n",
       "      <td>13-09-2021</td>\n",
       "      <td>13-04-2021</td>\n",
       "      <td>...</td>\n",
       "      <td>C4</td>\n",
       "      <td>60 months</td>\n",
       "      <td>Source Verified</td>\n",
       "      <td>30000.0</td>\n",
       "      <td>0.0100</td>\n",
       "      <td>59.83</td>\n",
       "      <td>0.1527</td>\n",
       "      <td>2500</td>\n",
       "      <td>4</td>\n",
       "      <td>1009</td>\n",
       "    </tr>\n",
       "    <tr>\n",
       "      <th>1</th>\n",
       "      <td>1072053</td>\n",
       "      <td>CA</td>\n",
       "      <td>INDIVIDUAL</td>\n",
       "      <td>9 years</td>\n",
       "      <td>MKC Accounting</td>\n",
       "      <td>E</td>\n",
       "      <td>RENT</td>\n",
       "      <td>01-01-2021</td>\n",
       "      <td>14-12-2021</td>\n",
       "      <td>15-01-2021</td>\n",
       "      <td>...</td>\n",
       "      <td>E1</td>\n",
       "      <td>36 months</td>\n",
       "      <td>Source Verified</td>\n",
       "      <td>48000.0</td>\n",
       "      <td>0.0535</td>\n",
       "      <td>109.43</td>\n",
       "      <td>0.1864</td>\n",
       "      <td>3000</td>\n",
       "      <td>4</td>\n",
       "      <td>3939</td>\n",
       "    </tr>\n",
       "  </tbody>\n",
       "</table>\n",
       "<p>2 rows × 24 columns</p>\n",
       "</div>"
      ],
      "text/plain": [
       "        id address_state application_type emp_length       emp_title grade  \\\n",
       "0  1077430            GA       INDIVIDUAL   < 1 year           Ryder     C   \n",
       "1  1072053            CA       INDIVIDUAL    9 years  MKC Accounting     E   \n",
       "\n",
       "  home_ownership  issue_date last_credit_pull_date last_payment_date  ...  \\\n",
       "0           RENT  11-02-2021            13-09-2021        13-04-2021  ...   \n",
       "1           RENT  01-01-2021            14-12-2021        15-01-2021  ...   \n",
       "\n",
       "  sub_grade        term  verification_status annual_income     dti  \\\n",
       "0        C4   60 months      Source Verified       30000.0  0.0100   \n",
       "1        E1   36 months      Source Verified       48000.0  0.0535   \n",
       "\n",
       "  installment int_rate  loan_amount  total_acc  total_payment  \n",
       "0       59.83   0.1527         2500          4           1009  \n",
       "1      109.43   0.1864         3000          4           3939  \n",
       "\n",
       "[2 rows x 24 columns]"
      ]
     },
     "execution_count": 7,
     "metadata": {},
     "output_type": "execute_result"
    }
   ],
   "source": [
    "financial_loan.head(2)"
   ]
  },
  {
   "cell_type": "markdown",
   "id": "3781be95-7258-4561-92b9-72160960b719",
   "metadata": {},
   "source": [
    "Loan ID: Unique identifier for tracking loans, aiding in efficient management.\n",
    "\r\n",
    "Address State: Indicates borrower location, helping assess risk factor.\r\n",
    "\r\n",
    "Employee Length: Provides insights into employment stabilty.\r\n",
    "\r\n",
    "Employee Title: Specifies borrower's occupation for income verifiction.\r\n",
    "\r\n",
    "Grade: Classification based on creditworthiness, used for risk mangement.\r\n",
    "\r\n",
    "Sub Grade: Refines risk assessment withi a grade.\r\n",
    "\r\n",
    "Home Ownership: Indicates housing status, offering financial stabiliy insights.\r\n",
    "When was the loan given to the particular candidate?ing purposes.\r\n",
    "\r\n",
    "Last Credit Pull Date: Records last credit report accessfor monitoring.\r\n",
    "\r\n",
    "Last Payment Date: Marks most recent payment, trackin payment history.\r\n",
    "\r\n",
    "Loan Status: Indicates current loan state, aiding in perormance monitoring.\r\n",
    "\r\n",
    "Next Payment Date: Estimates next paymentdate for forecasting.\r\n",
    "\r\n",
    "Purpose: Specifies loan reason, iding in customization.\r\n",
    "\r\n",
    "Term: Defines loan duration, use for agreement structure.\r\n",
    "\r\n",
    "Verification Status: Indicats data verification status.\r\n",
    "\r\n",
    "Annual Income: Reflects yearly earnins for eligibility assessment.\r\n",
    "\r\n",
    "DTI (Debt-to-Income Ratio): Measures Analysis of this value will help bankers determine whether to approve or deny a loan for the client.dInstallment relative to income.\r\n",
    "\r\n",
    "Instalment: Fied monthly payment for repayment.\r\n",
    "\r\n",
    "Interest Rate: Annual borowing cost, used for loan pricing.\r\n",
    "\r\n",
    "Loan Amount: Total bo\n",
    "Total payment= Amount paid back by the client to the bank defining principal amount.\r\n",
    "\r\n",
    "\r\n",
    "\r\n",
    "\r\n",
    "\r\n",
    "\r\n",
    "\r\n",
    "\r\n",
    "\r\n",
    "\r\n",
    "\r\n"
   ]
  },
  {
   "cell_type": "markdown",
   "id": "de08bfaf-a850-4abd-906e-e1ba7ee1a056",
   "metadata": {},
   "source": [
    "## 1. Total no of loan applications"
   ]
  },
  {
   "cell_type": "code",
   "execution_count": 9,
   "id": "3e3b8ac8-1e43-47da-a517-0bef33c720e4",
   "metadata": {},
   "outputs": [
    {
     "name": "stdout",
     "output_type": "stream",
     "text": [
      "Total_Applications: 38576\n"
     ]
    }
   ],
   "source": [
    "total_applications = financial_loan['id'].count()\n",
    "print(\"Total_Applications:\", total_applications)"
   ]
  },
  {
   "cell_type": "markdown",
   "id": "b50beef7-6345-4fe8-bb08-91d36d0e8c48",
   "metadata": {},
   "source": [
    "## 2. Total no of loan application issued for all 12 months"
   ]
  },
  {
   "cell_type": "code",
   "execution_count": 16,
   "id": "81149ed8-44a0-4090-aed6-c9ac313e6ffc",
   "metadata": {},
   "outputs": [
    {
     "name": "stdout",
     "output_type": "stream",
     "text": [
      "issue_date\n",
      "1     2332\n",
      "2     2279\n",
      "3     2627\n",
      "4     2755\n",
      "5     2911\n",
      "6     3184\n",
      "7     3366\n",
      "8     3441\n",
      "9     3536\n",
      "10    3796\n",
      "11    4035\n",
      "12    4314\n",
      "Name: id, dtype: int64\n"
     ]
    }
   ],
   "source": [
    "financial_loan['issue_date'] = pd.to_datetime(financial_loan['issue_date'], format='%d-%m-%Y')\n",
    "# Count the number of applications for each month\n",
    "monthly_loan_counts = financial_loan.groupby(financial_loan['issue_date'].dt.month)['id'].count()\n",
    "print(monthly_loan_counts)"
   ]
  },
  {
   "cell_type": "markdown",
   "id": "b29c2e1d-d5b9-44bd-b19a-72a66d3d1ba0",
   "metadata": {},
   "source": [
    "## 3. Total Funded Amount"
   ]
  },
  {
   "cell_type": "code",
   "execution_count": 18,
   "id": "a37bb0da-8399-41e7-92bb-aa920dec1705",
   "metadata": {},
   "outputs": [
    {
     "name": "stdout",
     "output_type": "stream",
     "text": [
      "Total Funded Amount: 435757075\n"
     ]
    }
   ],
   "source": [
    "total_funded_amount = financial_loan['loan_amount'].sum()\n",
    "print(\"Total Funded Amount:\", total_funded_amount)"
   ]
  },
  {
   "cell_type": "markdown",
   "id": "b2417d1f-b1ac-4b85-aa8b-cdeb9d81fe5b",
   "metadata": {},
   "source": [
    "## 4. Loan amount funded for every month"
   ]
  },
  {
   "cell_type": "code",
   "execution_count": 20,
   "id": "4c5e3397-0791-4020-97e3-b44942f63067",
   "metadata": {},
   "outputs": [
    {
     "name": "stdout",
     "output_type": "stream",
     "text": [
      "issue_date\n",
      "January      25031650\n",
      "February     24647825\n",
      "March        28875700\n",
      "April        29800800\n",
      "May          31738350\n",
      "June         34161475\n",
      "July         35813900\n",
      "August       38149600\n",
      "September    40907725\n",
      "October      44893800\n",
      "November     47754825\n",
      "December     53981425\n",
      "Name: loan_amount, dtype: int64\n"
     ]
    }
   ],
   "source": [
    "financial_loan['issue_date'] = pd.to_datetime(financial_loan['issue_date'], format='%d-%m-%Y')\n",
    "monthly_funded_amounts = financial_loan.groupby(financial_loan['issue_date'].dt.month)['loan_amount'].sum()\n",
    "monthly_funded_amounts.index = pd.to_datetime(monthly_funded_amounts.index, format='%m').month_name()\n",
    "print(monthly_funded_amounts)"
   ]
  },
  {
   "cell_type": "markdown",
   "id": "ef6c65be-347f-4de0-a2fc-4cc8f4824c14",
   "metadata": {},
   "source": [
    "## 5. Total amount received by bank or paid back by customers"
   ]
  },
  {
   "cell_type": "code",
   "execution_count": 22,
   "id": "ba2b84a0-8f69-44eb-97a8-581dfec0bb65",
   "metadata": {},
   "outputs": [
    {
     "name": "stdout",
     "output_type": "stream",
     "text": [
      "Total Amount Collected: 473070933\n"
     ]
    }
   ],
   "source": [
    "total_amount_collected = financial_loan['total_payment'].sum()\n",
    "print(\"Total Amount Collected:\", total_amount_collected)"
   ]
  },
  {
   "cell_type": "markdown",
   "id": "30101176-3dc7-40fb-b322-aab3915fe15a",
   "metadata": {},
   "source": [
    "## 6. Total amount received by the bank or paid back by customers every months"
   ]
  },
  {
   "cell_type": "code",
   "execution_count": 23,
   "id": "01599c15-c6f8-42ca-9599-0a7778e64520",
   "metadata": {},
   "outputs": [
    {
     "name": "stdout",
     "output_type": "stream",
     "text": [
      "issue_date\n",
      "January      27578836\n",
      "February     27717745\n",
      "March        32264400\n",
      "April        32495533\n",
      "May          33750523\n",
      "June         36164533\n",
      "July         38827220\n",
      "August       42682218\n",
      "September    43983948\n",
      "October      49399567\n",
      "November     50132030\n",
      "December     58074380\n",
      "Name: total_payment, dtype: int64\n"
     ]
    }
   ],
   "source": [
    "financial_loan['issue_date'] = pd.to_datetime(financial_loan['issue_date'], format='%d-%m-%Y')\n",
    "# Group by month and sum the total payments, and rename the index to month names\n",
    "monthly_amount_collected = financial_loan.groupby(financial_loan['issue_date'].dt.month)['total_payment'].sum()\n",
    "monthly_amount_collected.index = pd.to_datetime(monthly_amount_collected.index, format='%m').month_name()\n",
    "print(monthly_amount_collected)"
   ]
  },
  {
   "cell_type": "markdown",
   "id": "b781228b-4ce3-401d-9efb-9cd9e4a4aaa5",
   "metadata": {},
   "source": [
    "## 7. Average Interest Rate"
   ]
  },
  {
   "cell_type": "code",
   "execution_count": 27,
   "id": "a6b5a0ff-6637-4e8d-b41d-c4cf1f2431f9",
   "metadata": {},
   "outputs": [
    {
     "name": "stdout",
     "output_type": "stream",
     "text": [
      "Average Interest Rate (%): 12.05\n"
     ]
    }
   ],
   "source": [
    "avg_int_rate = round(financial_loan['int_rate'].mean() * 100, 2)\n",
    "print(\"Average Interest Rate (%):\", avg_int_rate)"
   ]
  },
  {
   "cell_type": "markdown",
   "id": "2586cd45-e25d-45af-ac83-87ba2a439c13",
   "metadata": {},
   "source": [
    "## 8. Average Interest Rate for every months"
   ]
  },
  {
   "cell_type": "code",
   "execution_count": 29,
   "id": "2fbabb44-cb36-4383-abd4-d34f4f5d890f",
   "metadata": {},
   "outputs": [
    {
     "name": "stdout",
     "output_type": "stream",
     "text": [
      "issue_date\n",
      "January      11.461887\n",
      "February     11.721632\n",
      "March        11.858291\n",
      "April        11.740907\n",
      "May          12.257795\n",
      "June         12.274243\n",
      "July         12.237237\n",
      "August       12.300235\n",
      "September    12.003232\n",
      "October      12.024123\n",
      "November     11.941717\n",
      "December     12.356041\n",
      "Name: int_rate, dtype: float64\n"
     ]
    }
   ],
   "source": [
    "financial_loan['issue_date'] = pd.to_datetime(financial_loan['issue_date'], format='%d-%m-%Y')\n",
    "monthly_avg_int_rate = financial_loan.groupby(financial_loan['issue_date'].dt.month)['int_rate'].mean() * 100\n",
    "monthly_avg_int_rate.index = pd.to_datetime(monthly_avg_int_rate.index, format='%m').month_name()\n",
    "print(monthly_avg_int_rate)"
   ]
  },
  {
   "cell_type": "markdown",
   "id": "72835e37-1724-491c-af4b-ba7abe9e702d",
   "metadata": {},
   "source": [
    "## 9. Factors that determine whether a client is eligible for loan or not."
   ]
  },
  {
   "cell_type": "code",
   "execution_count": 32,
   "id": "ca203596-c07a-4fde-ac57-07c7ee7eb3c8",
   "metadata": {},
   "outputs": [
    {
     "name": "stdout",
     "output_type": "stream",
     "text": [
      "Average DTI (%): 13.327433119037742\n"
     ]
    }
   ],
   "source": [
    "avg_dti = financial_loan['dti'].mean() * 100\n",
    "print(\"Average DTI (%):\", avg_dti)"
   ]
  },
  {
   "cell_type": "markdown",
   "id": "144af000-e44b-45e2-8e45-dd1fb5554395",
   "metadata": {},
   "source": [
    "## 10. For all 12 months"
   ]
  },
  {
   "cell_type": "code",
   "execution_count": 34,
   "id": "911c126b-232b-43af-901f-a9c0473d4a45",
   "metadata": {},
   "outputs": [
    {
     "name": "stdout",
     "output_type": "stream",
     "text": [
      "issue_date\n",
      "January      12.936985\n",
      "February     13.409329\n",
      "March        13.215615\n",
      "April        13.219361\n",
      "May          13.333744\n",
      "June         13.243781\n",
      "July         13.294816\n",
      "August       13.353232\n",
      "September    13.297848\n",
      "October      13.414381\n",
      "November     13.302734\n",
      "December     13.665538\n",
      "Name: dti, dtype: float64\n"
     ]
    }
   ],
   "source": [
    "financial_loan['issue_date'] = pd.to_datetime(financial_loan['issue_date'], format='%d-%m-%Y')\n",
    "monthly_avg_dti = financial_loan.groupby(financial_loan['issue_date'].dt.month)['dti'].mean() * 100\n",
    "monthly_avg_dti.index = pd.to_datetime(monthly_avg_dti.index, format='%m').month_name()\n",
    "print(monthly_avg_dti)"
   ]
  },
  {
   "cell_type": "markdown",
   "id": "1bc84b7d-8b86-4ba1-9d50-4a3de8d4edfe",
   "metadata": {},
   "source": [
    "## Checking the unique values"
   ]
  },
  {
   "cell_type": "code",
   "execution_count": 35,
   "id": "509db77d-a985-44b9-997b-21b538d345ed",
   "metadata": {},
   "outputs": [
    {
     "name": "stdout",
     "output_type": "stream",
     "text": [
      "['Charged Off' 'Fully Paid' 'Current']\n"
     ]
    }
   ],
   "source": [
    "unique_loan_status = financial_loan['loan_status'].unique()\n",
    "print(unique_loan_status)"
   ]
  },
  {
   "cell_type": "markdown",
   "id": "7fd794db-ef15-4505-866d-e95e97ffeed8",
   "metadata": {},
   "source": [
    " \"Fully Paid\" signifies clients who have already repaid their loans, indicating a positive outcome for the bank. These loans are regarded as good loans.\r\n",
    "\"Current\" indicates that the client is currently repaying the loan, reflecting a positive loan status. \r\n",
    "\"Charged Off\" indicates that the client has failed to repay the loan, resulting in a loss for the bank."
   ]
  },
  {
   "cell_type": "markdown",
   "id": "8671bfb6-995c-453e-8cec-43e1042c314c",
   "metadata": {},
   "source": [
    "## 11. Good loan percentage"
   ]
  },
  {
   "cell_type": "code",
   "execution_count": 36,
   "id": "745c5acf-e010-4200-a777-3a2486477a47",
   "metadata": {},
   "outputs": [
    {
     "name": "stdout",
     "output_type": "stream",
     "text": [
      "Good Loan Percentage: 86.17534218166736\n"
     ]
    }
   ],
   "source": [
    "good_loan_percentage = ((financial_loan['loan_status'].isin(['Fully Paid', 'Current'])).sum() / len(financial_loan['id'])) * 100.0\n",
    "print(\"Good Loan Percentage:\", good_loan_percentage)"
   ]
  },
  {
   "cell_type": "markdown",
   "id": "60e14c13-89ca-4a9c-993c-1004d9bc6f5f",
   "metadata": {},
   "source": [
    "## Good Loan Application"
   ]
  },
  {
   "cell_type": "code",
   "execution_count": 37,
   "id": "d8fc7d4c-98a6-45c9-8547-dca4448256d7",
   "metadata": {},
   "outputs": [
    {
     "name": "stdout",
     "output_type": "stream",
     "text": [
      "Good Loan Applications: 33243\n"
     ]
    }
   ],
   "source": [
    "good_loan_applications = financial_loan[(financial_loan['loan_status'] == 'Fully Paid') | (financial_loan['loan_status'] == 'Current')]['id'].count()\n",
    "print(\"Good Loan Applications:\", good_loan_applications)"
   ]
  },
  {
   "cell_type": "markdown",
   "id": "2e0c058e-cc9b-4073-a434-7219a42a0c1f",
   "metadata": {},
   "source": [
    "## Good loan Funded Amount"
   ]
  },
  {
   "cell_type": "code",
   "execution_count": 38,
   "id": "3aebad74-a240-4090-9036-f5ab4770f43e",
   "metadata": {},
   "outputs": [
    {
     "name": "stdout",
     "output_type": "stream",
     "text": [
      "Good Loan Funded Amount: 370224850\n"
     ]
    }
   ],
   "source": [
    "good_loan_funded_amount = financial_loan.loc[financial_loan['loan_status'].isin(['Fully Paid', 'Current']), 'loan_amount'].sum()\n",
    "\n",
    "print(\"Good Loan Funded Amount:\", good_loan_funded_amount)"
   ]
  },
  {
   "cell_type": "markdown",
   "id": "a1282c92-ed91-47ff-95c9-7866f476a114",
   "metadata": {},
   "source": [
    "## Good loan amount received"
   ]
  },
  {
   "cell_type": "code",
   "execution_count": 49,
   "id": "a19b2a84-b676-4be9-b3da-8b515f7c7335",
   "metadata": {},
   "outputs": [
    {
     "name": "stdout",
     "output_type": "stream",
     "text": [
      "Good Loan Amount Received: 435786170\n"
     ]
    }
   ],
   "source": [
    "good_loan_amount_received = financial_loan.loc[financial_loan['loan_status'].isin(['Fully Paid', 'Current']), 'total_payment'].sum()\n",
    "\n",
    "print(\"Good Loan Amount Received:\", good_loan_amount_received)"
   ]
  },
  {
   "cell_type": "markdown",
   "id": "132a4a0b-27ba-4a2a-8f8a-59d687314d74",
   "metadata": {},
   "source": [
    "## 12.Bad loan percentage"
   ]
  },
  {
   "cell_type": "code",
   "execution_count": 40,
   "id": "307080ac-52be-4fae-a69d-11819fa959b6",
   "metadata": {},
   "outputs": [
    {
     "name": "stdout",
     "output_type": "stream",
     "text": [
      "Bad Loan Percentage: 13.824657818332643\n"
     ]
    }
   ],
   "source": [
    "bad_loan_percentage = ((financial_loan['loan_status'] == 'Charged Off').sum() / len(financial_loan['id'])) * 100.0\n",
    "\n",
    "print(\"Bad Loan Percentage:\", bad_loan_percentage)"
   ]
  },
  {
   "cell_type": "markdown",
   "id": "a39b657b-870f-4223-b545-8b6ab8927e61",
   "metadata": {},
   "source": [
    "## Bad Loan Applications"
   ]
  },
  {
   "cell_type": "code",
   "execution_count": 41,
   "id": "3509eaf3-07b5-4700-9b82-fd45154545a7",
   "metadata": {},
   "outputs": [
    {
     "name": "stdout",
     "output_type": "stream",
     "text": [
      "Bad Loan Applications: 5333\n"
     ]
    }
   ],
   "source": [
    "bad_loan_applications = financial_loan[financial_loan['loan_status'] == 'Charged Off']['id'].count()\n",
    "\n",
    "print(\"Bad Loan Applications:\", bad_loan_applications)"
   ]
  },
  {
   "cell_type": "markdown",
   "id": "9c07c551-a25e-499f-8c38-ca03251bf6c4",
   "metadata": {},
   "source": [
    "## Bad Loan Funded Amount"
   ]
  },
  {
   "cell_type": "code",
   "execution_count": 42,
   "id": "6a7d2c00-aa31-4d7a-a433-3994d6b043f6",
   "metadata": {},
   "outputs": [
    {
     "name": "stdout",
     "output_type": "stream",
     "text": [
      "Bad Loan Funded Amount: 65532225\n"
     ]
    }
   ],
   "source": [
    "bad_loan_funded_amount = financial_loan.loc[financial_loan['loan_status'] == 'Charged Off', 'loan_amount'].sum()\n",
    "\n",
    "print(\"Bad Loan Funded Amount:\", bad_loan_funded_amount)"
   ]
  },
  {
   "cell_type": "markdown",
   "id": "a90da012-1602-483e-9c08-0ea9a8ab3364",
   "metadata": {},
   "source": [
    "## Bad Loan Amount Received"
   ]
  },
  {
   "cell_type": "code",
   "execution_count": 43,
   "id": "14637777-4f84-4871-a1a3-319db0b780f0",
   "metadata": {},
   "outputs": [
    {
     "name": "stdout",
     "output_type": "stream",
     "text": [
      "Bad Loan Amount Received: 37284763\n"
     ]
    }
   ],
   "source": [
    "bad_loan_amount_received = financial_loan.loc[financial_loan['loan_status'] == 'Charged Off', 'total_payment'].sum()\n",
    "\n",
    "print(\"Bad Loan Amount Received:\", bad_loan_amount_received)"
   ]
  },
  {
   "cell_type": "code",
   "execution_count": 45,
   "id": "aee00398-8c91-4412-bf8c-abc6c58097f1",
   "metadata": {},
   "outputs": [
    {
     "name": "stdout",
     "output_type": "stream",
     "text": [
      "   loan_status  LoanCount  Total_Amount_Received  Total_Funded_Amount  \\\n",
      "0  Charged Off       5333               37284763             65532225   \n",
      "1      Current       1098               24199914             18866500   \n",
      "2   Fully Paid      32145              411586256            351358350   \n",
      "\n",
      "   Interest_Rate        DTI  \n",
      "0      13.878575  14.004733  \n",
      "1      15.099326  14.724344  \n",
      "2      11.641071  13.167351  \n"
     ]
    }
   ],
   "source": [
    "loan_status_summary = financial_loan.groupby('loan_status').agg(\n",
    "    LoanCount=('id', 'count'),\n",
    "    Total_Amount_Received=('total_payment', 'sum'),\n",
    "    Total_Funded_Amount=('loan_amount', 'sum'),\n",
    "    Interest_Rate=('int_rate', lambda x: (x * 100).mean()),\n",
    "    DTI=('dti', lambda x: (x * 100).mean())\n",
    ").reset_index()\n",
    "\n",
    "print(loan_status_summary)"
   ]
  },
  {
   "cell_type": "code",
   "execution_count": 46,
   "id": "eaa4b121-30c1-47da-a39a-887b42965371",
   "metadata": {},
   "outputs": [
    {
     "name": "stdout",
     "output_type": "stream",
     "text": [
      "   loan_status  MTD_Total_Amount_Received  MTD_Total_Funded_Amount\n",
      "0  Charged Off                    5324211                  8732775\n",
      "1      Current                    4934318                  3946625\n",
      "2   Fully Paid                   47815851                 41302025\n"
     ]
    }
   ],
   "source": [
    "mtd_loan_summary = financial_loan[financial_loan['issue_date'].dt.month == 12].groupby('loan_status').agg(\n",
    "    MTD_Total_Amount_Received=('total_payment', 'sum'),\n",
    "    MTD_Total_Funded_Amount=('loan_amount', 'sum')\n",
    ").reset_index()\n",
    "\n",
    "print(mtd_loan_summary)"
   ]
  },
  {
   "cell_type": "code",
   "execution_count": 48,
   "id": "d79dc3c9-3b10-4463-9b09-5b7c9c747bc0",
   "metadata": {},
   "outputs": [
    {
     "name": "stdout",
     "output_type": "stream",
     "text": [
      "   State  Total_Loan_Applications  Total_Funded_Amount  Total_Amount_Received\n",
      "0     AK                       78              1031800                1108570\n",
      "1     AL                      432              4949225                5492272\n",
      "2     AR                      236              2529700                2777875\n",
      "3     AZ                      833              9206000               10041986\n",
      "4     CA                     6894             78484125               83901234\n",
      "5     CO                      770              8976000                9845810\n",
      "6     CT                      730              8435575                9357612\n",
      "7     DC                      214              2652350                2921854\n",
      "8     DE                      110              1138100                1269136\n",
      "9     FL                     2773             30046125               31601905\n",
      "10    GA                     1355             15480325               16728040\n",
      "11    HI                      170              1850525                2080184\n",
      "12    IA                        5                56450                  64482\n",
      "13    ID                        6                59750                  65329\n",
      "14    IL                     1486             17124225               18875941\n",
      "15    IN                        9                86225                  85521\n",
      "16    KS                      260              2872325                3247394\n",
      "17    KY                      320              3504100                3792530\n",
      "18    LA                      426              4498900                5001160\n",
      "19    MA                     1310             15051000               16676279\n",
      "20    MD                     1027             11911400               12985170\n",
      "21    ME                        3                 9200                  10808\n",
      "22    MI                      685              7829900                8543660\n",
      "23    MN                      592              6302600                6750746\n",
      "24    MO                      660              7151175                7692732\n",
      "25    MS                       19               139125                 149342\n",
      "26    MT                       79               829525                 892047\n",
      "27    NC                      759              8787575                9534813\n",
      "28    NE                        5                31700                  24542\n",
      "29    NH                      161              1917900                2101386\n",
      "30    NJ                     1822             21657475               23425159\n",
      "31    NM                      183              1916775                2084485\n",
      "32    NV                      482              5307375                5451443\n",
      "33    NY                     3701             42077050               46108181\n",
      "34    OH                     1188             12991375               14330148\n",
      "35    OK                      293              3365725                3712649\n",
      "36    OR                      436              4720150                4966903\n",
      "37    PA                     1482             15826525               17462908\n",
      "38    RI                      196              1883025                2001774\n",
      "39    SC                      464              5080475                5462458\n",
      "40    SD                       63               606150                 656514\n",
      "41    TN                       17               162175                 141522\n",
      "42    TX                     2664             31236650               34392715\n",
      "43    UT                      252              2849225                2952412\n",
      "44    VA                     1375             15982650               17711443\n",
      "45    VT                       54               504100                 534973\n",
      "46    WA                      805              8855525                9531739\n",
      "47    WI                      446              5070450                5485161\n",
      "48    WV                      167              1830525                1991936\n",
      "49    WY                       79               890750                1046050\n"
     ]
    }
   ],
   "source": [
    "loan_summary_by_state = financial_loan.groupby('address_state').agg(\n",
    "    State=('address_state', 'first'),\n",
    "    Total_Loan_Applications=('id', 'count'),\n",
    "    Total_Funded_Amount=('loan_amount', 'sum'),\n",
    "    Total_Amount_Received=('total_payment', 'sum')\n",
    ").reset_index(drop=True)\n",
    "\n",
    "# Sort the DataFrame by address_state\n",
    "loan_summary_by_state = loan_summary_by_state.sort_values('State')\n",
    "\n",
    "print(loan_summary_by_state)"
   ]
  },
  {
   "cell_type": "code",
   "execution_count": null,
   "id": "28a55867-8d97-4529-b25b-90c767626408",
   "metadata": {},
   "outputs": [],
   "source": []
  },
  {
   "cell_type": "code",
   "execution_count": null,
   "id": "5dc10ff2-abdd-4b58-9d1d-b31aa3aa0a82",
   "metadata": {},
   "outputs": [],
   "source": []
  }
 ],
 "metadata": {
  "kernelspec": {
   "display_name": "Python 3 (ipykernel)",
   "language": "python",
   "name": "python3"
  },
  "language_info": {
   "codemirror_mode": {
    "name": "ipython",
    "version": 3
   },
   "file_extension": ".py",
   "mimetype": "text/x-python",
   "name": "python",
   "nbconvert_exporter": "python",
   "pygments_lexer": "ipython3",
   "version": "3.11.7"
  }
 },
 "nbformat": 4,
 "nbformat_minor": 5
}
